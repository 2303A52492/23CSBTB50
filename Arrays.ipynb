{
  "nbformat": 4,
  "nbformat_minor": 0,
  "metadata": {
    "colab": {
      "provenance": [],
      "authorship_tag": "ABX9TyPWVnjeGTSqQjw9Vta2pmbr",
      "include_colab_link": true
    },
    "kernelspec": {
      "name": "python3",
      "display_name": "Python 3"
    },
    "language_info": {
      "name": "python"
    }
  },
  "cells": [
    {
      "cell_type": "markdown",
      "metadata": {
        "id": "view-in-github",
        "colab_type": "text"
      },
      "source": [
        "<a href=\"https://colab.research.google.com/github/2303A52492/23CSBTB50/blob/main/Arrays.ipynb\" target=\"_parent\"><img src=\"https://colab.research.google.com/assets/colab-badge.svg\" alt=\"Open In Colab\"/></a>"
      ]
    },
    {
      "cell_type": "code",
      "execution_count": 1,
      "metadata": {
        "colab": {
          "base_uri": "https://localhost:8080/"
        },
        "id": "LJRMjfx-59tC",
        "outputId": "82d04ece-a2fc-4573-cef0-a7a330e2b99e"
      },
      "outputs": [
        {
          "output_type": "execute_result",
          "data": {
            "text/plain": [
              "array([[1, 2, 3],\n",
              "       [4, 5, 6],\n",
              "       [7, 8, 9]])"
            ]
          },
          "metadata": {},
          "execution_count": 1
        }
      ],
      "source": [
        "import numpy as np\n",
        "np.array([1,2,3])\n",
        "np.array([[1,2,3],[4,5,6],[7,8,9]])"
      ]
    },
    {
      "cell_type": "code",
      "source": [
        "import numpy as np\n",
        "import pandas as pd\n",
        "\n",
        "# Numpy Arrays\n",
        "arr1 = np.array([1, 2, 3, 4, 5])  # 1D array\n",
        "arr2 = np.array([[1, 2, 3], [4, 5, 6]])  # 2D array\n",
        "\n",
        "# Pandas Series (1D labeled array)\n",
        "series1 = pd.Series([10, 20, 30, 40, 50], index=['a', 'b', 'c', 'd', 'e'])\n",
        "\n",
        "# Pandas DataFrame (2D labeled data structure)\n",
        "data = {'Name': ['Alice', 'Bob', 'Charlie'], 'Age': [25, 30, 28]}\n",
        "df = pd.DataFrame(data)\n",
        "\n",
        "print(\"Numpy Array 1:\\n\", arr1)\n",
        "print(\"\\nNumpy Array 2:\\n\", arr2)\n",
        "print(\"\\nPandas Series:\\n\", series1)\n",
        "print(\"\\nPandas DataFrame:\\n\", df)"
      ],
      "metadata": {
        "colab": {
          "base_uri": "https://localhost:8080/"
        },
        "id": "tC5gfrQT_7e4",
        "outputId": "7977f285-bd06-4d72-b5bd-c346bc81ea3c"
      },
      "execution_count": 5,
      "outputs": [
        {
          "output_type": "stream",
          "name": "stdout",
          "text": [
            "Numpy Array 1:\n",
            " [1 2 3 4 5]\n",
            "\n",
            "Numpy Array 2:\n",
            " [[1 2 3]\n",
            " [4 5 6]]\n",
            "\n",
            "Pandas Series:\n",
            " a    10\n",
            "b    20\n",
            "c    30\n",
            "d    40\n",
            "e    50\n",
            "dtype: int64\n",
            "\n",
            "Pandas DataFrame:\n",
            "       Name  Age\n",
            "0    Alice   25\n",
            "1      Bob   30\n",
            "2  Charlie   28\n"
          ]
        }
      ]
    },
    {
      "cell_type": "code",
      "source": [
        "import numpy as np\n",
        "\n",
        "a = np.array([1, 2, 3])\n",
        "b = np.array([4, 5, 6])\n",
        "\n",
        "addition = a + b\n",
        "\n",
        "# Subtraction\n",
        "subtraction = a - b\n",
        "\n",
        "# Multiplication (element-wise)\n",
        "multiplication = a * b\n",
        "\n",
        "# Division (element-wise)\n",
        "division = a / b\n",
        "\n",
        "print(\"Addition: \", addition)\n",
        "print(\"Subtraction: \", subtraction)\n",
        "print(\"Multiplication: \", multiplication)\n",
        "print(\"Division: \", division)"
      ],
      "metadata": {
        "colab": {
          "base_uri": "https://localhost:8080/"
        },
        "id": "871adzqe9PF5",
        "outputId": "320e374d-93b8-4603-ea74-d0f64e9750d4"
      },
      "execution_count": 2,
      "outputs": [
        {
          "output_type": "stream",
          "name": "stdout",
          "text": [
            "Addition:  [5 7 9]\n",
            "Subtraction:  [-3 -3 -3]\n",
            "Multiplication:  [ 4 10 18]\n",
            "Division:  [0.25 0.4  0.5 ]\n"
          ]
        }
      ]
    },
    {
      "cell_type": "code",
      "source": [
        "import numpy as np\n",
        "\n",
        "\n",
        "matrix_1x1 = np.array([[1]])\n",
        "\n",
        "\n",
        "matrix_2x2 = np.array([[1, 2],\n",
        "                       [3, 4]])\n",
        "\n",
        "\n",
        "matrix_3x3 = np.array([[1, 2, 3],\n",
        "                       [4, 5, 6],\n",
        "                       [7, 8, 9]])\n",
        "\n",
        "print(\"1x1 Matrix:\\n\", matrix_1x1)\n",
        "print(\"\\n2x2 Matrix:\\n\", matrix_2x2)\n",
        "print(\"\\n3x3 Matrix:\\n\", matrix_3x3)"
      ],
      "metadata": {
        "colab": {
          "base_uri": "https://localhost:8080/"
        },
        "id": "DoYJRYDx9nZh",
        "outputId": "100ef734-9cf2-47b3-c036-f6ce8f7b409b"
      },
      "execution_count": 3,
      "outputs": [
        {
          "output_type": "stream",
          "name": "stdout",
          "text": [
            "1x1 Matrix:\n",
            " [[1]]\n",
            "\n",
            "2x2 Matrix:\n",
            " [[1 2]\n",
            " [3 4]]\n",
            "\n",
            "3x3 Matrix:\n",
            " [[1 2 3]\n",
            " [4 5 6]\n",
            " [7 8 9]]\n"
          ]
        }
      ]
    },
    {
      "cell_type": "code",
      "source": [
        "import numpy as np\n",
        "\n",
        "\n",
        "matrix1 = np.array([[1, 2],\n",
        "                    [3, 4]])\n",
        "\n",
        "matrix2 = np.array([[5, 6],\n",
        "                    [7, 8]])\n",
        "\n",
        "result = np.dot(matrix1, matrix2)\n",
        "\n",
        "print(\"Result of matrix multiplication:\\n\", result)"
      ],
      "metadata": {
        "colab": {
          "base_uri": "https://localhost:8080/"
        },
        "id": "kXg7yRk893rF",
        "outputId": "08bebe4c-5cf3-404d-97c7-4203fca6813a"
      },
      "execution_count": 4,
      "outputs": [
        {
          "output_type": "stream",
          "name": "stdout",
          "text": [
            "Result of matrix multiplication:\n",
            " [[19 22]\n",
            " [43 50]]\n"
          ]
        }
      ]
    }
  ]
}